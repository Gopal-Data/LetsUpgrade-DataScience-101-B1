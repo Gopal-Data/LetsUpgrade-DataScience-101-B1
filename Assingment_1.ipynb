{
 "cells": [
  {
   "cell_type": "markdown",
   "metadata": {},
   "source": [
    "# Questions 1:\n",
    "Given the following jumbled word, OBANWRI guess the correct English word.\n",
    "\n",
    "A. RANIBOW\n",
    "\n",
    "B. RAINBOW\n",
    "\n",
    "C. BOWRANI\n",
    "\n",
    "D. ROBWANI"
   ]
  },
  {
   "cell_type": "raw",
   "metadata": {},
   "source": [
    "Answer : B. RAINBOW"
   ]
  },
  {
   "cell_type": "markdown",
   "metadata": {},
   "source": [
    "# Questions 2:\n",
    "Write a program which prints “LETS UPGRADE”. (Please note that you have to print in ALL CAPS as given)"
   ]
  },
  {
   "cell_type": "code",
   "execution_count": 1,
   "metadata": {},
   "outputs": [
    {
     "name": "stdout",
     "output_type": "stream",
     "text": [
      "LETS UPGRADE\n"
     ]
    }
   ],
   "source": [
    "name='lets upgrade'\n",
    "Upper_Case=name.upper()\n",
    "print(Upper_Case)"
   ]
  },
  {
   "cell_type": "markdown",
   "metadata": {},
   "source": [
    "# Questions 3:\n",
    "Write a program that takes cost price and selling price as input and displays whether the transaction is a Profit or a Loss or Neither.\n",
    "\n",
    "INPUT FORMAT The first line contains the cost price. The second line contains the selling price.\n",
    "\n",
    "OUTPUT FORMAT Print \"Profit\" if the transaction is a profit or \"Loss\" if it is a loss. If it is neither profit nor loss, print \"Neither\". (You must not have quotes in your output)\n",
    "\n",
    "NOTE: Please stick to the input and output format. Don't add anything extra like 'Enter cost price', 'Enter selling price', etc."
   ]
  },
  {
   "cell_type": "code",
   "execution_count": 2,
   "metadata": {},
   "outputs": [
    {
     "name": "stdout",
     "output_type": "stream",
     "text": [
      "500\n",
      "700\n",
      "Profit\n"
     ]
    }
   ],
   "source": [
    "cost=int(input())\n",
    "sell=int(input())\n",
    "\n",
    "value=sell - cost\n",
    "\n",
    "if value > 0:\n",
    "    print(\"Profit\")\n",
    "elif value < 0:\n",
    "    print(\"Loss\")\n",
    "else:\n",
    "    print(\"Neither\")"
   ]
  },
  {
   "cell_type": "markdown",
   "metadata": {},
   "source": [
    "# Questions 4:\n",
    "Write a program that takes an amount in Euros as input. You need to find its equivalent in Rupees and display it. Assume 1 Euro equals Rs. 80.\n",
    "\n",
    "Please note that you are expected to stick to the given input and output format as in sample test cases. Please don't add any extra lines such as 'Enter a number', etc. Your program should take only one number as input and display the output.\n"
   ]
  },
  {
   "cell_type": "code",
   "execution_count": 3,
   "metadata": {
    "scrolled": true
   },
   "outputs": [
    {
     "name": "stdout",
     "output_type": "stream",
     "text": [
      "2\n",
      "160\n"
     ]
    }
   ],
   "source": [
    "euro=int(input())\n",
    "rupees=euro*80\n",
    "print(rupees)"
   ]
  },
  {
   "cell_type": "code",
   "execution_count": null,
   "metadata": {},
   "outputs": [],
   "source": []
  }
 ],
 "metadata": {
  "kernelspec": {
   "display_name": "Python 3",
   "language": "python",
   "name": "python3"
  },
  "language_info": {
   "codemirror_mode": {
    "name": "ipython",
    "version": 3
   },
   "file_extension": ".py",
   "mimetype": "text/x-python",
   "name": "python",
   "nbconvert_exporter": "python",
   "pygments_lexer": "ipython3",
   "version": "3.7.7"
  }
 },
 "nbformat": 4,
 "nbformat_minor": 4
}
